{
  "nbformat": 4,
  "nbformat_minor": 0,
  "metadata": {
    "colab": {
      "provenance": [],
      "authorship_tag": "ABX9TyPZ491aOgitM282pyDXAB32",
      "include_colab_link": true
    },
    "kernelspec": {
      "name": "python3",
      "display_name": "Python 3"
    },
    "language_info": {
      "name": "python"
    }
  },
  "cells": [
    {
      "cell_type": "markdown",
      "metadata": {
        "id": "view-in-github",
        "colab_type": "text"
      },
      "source": [
        "<a href=\"https://colab.research.google.com/github/BT21PrKu/Sampling_Assignment/blob/main/SamplingAssignment.ipynb\" target=\"_parent\"><img src=\"https://colab.research.google.com/assets/colab-badge.svg\" alt=\"Open In Colab\"/></a>"
      ]
    },
    {
      "cell_type": "code",
      "execution_count": 1,
      "metadata": {
        "id": "nvZ1pdoMUK5C"
      },
      "outputs": [],
      "source": [
        "import numpy as np\n",
        "import pandas as pd\n",
        "import matplotlib.pyplot as plt\n",
        "import seaborn as sns"
      ]
    },
    {
      "cell_type": "markdown",
      "source": [
        "#Import the dataset"
      ],
      "metadata": {
        "id": "Kno-dwtGjETv"
      }
    },
    {
      "cell_type": "code",
      "source": [
        "data = pd.read_csv('/content/Creditcard_data.csv')\n",
        "\n",
        "data.head()"
      ],
      "metadata": {
        "colab": {
          "base_uri": "https://localhost:8080/",
          "height": 255
        },
        "id": "dYpiK5xdUpsu",
        "outputId": "f7541510-edee-4281-da22-11b0e1cb5ac1"
      },
      "execution_count": 2,
      "outputs": [
        {
          "output_type": "execute_result",
          "data": {
            "text/plain": [
              "   Time        V1        V2        V3        V4        V5        V6        V7  \\\n",
              "0     0 -1.359807 -0.072781  2.536347  1.378155 -0.338321  0.462388  0.239599   \n",
              "1     0  1.191857  0.266151  0.166480  0.448154  0.060018 -0.082361 -0.078803   \n",
              "2     1 -1.358354 -1.340163  1.773209  0.379780 -0.503198  1.800499  0.791461   \n",
              "3     1 -0.966272 -0.185226  1.792993 -0.863291 -0.010309  1.247203  0.237609   \n",
              "4     2 -1.158233  0.877737  1.548718  0.403034 -0.407193  0.095921  0.592941   \n",
              "\n",
              "         V8        V9  ...       V21       V22       V23       V24       V25  \\\n",
              "0  0.098698  0.363787  ... -0.018307  0.277838 -0.110474  0.066928  0.128539   \n",
              "1  0.085102 -0.255425  ... -0.225775 -0.638672  0.101288 -0.339846  0.167170   \n",
              "2  0.247676 -1.514654  ...  0.247998  0.771679  0.909412 -0.689281 -0.327642   \n",
              "3  0.377436 -1.387024  ... -0.108300  0.005274 -0.190321 -1.175575  0.647376   \n",
              "4 -0.270533  0.817739  ... -0.009431  0.798278 -0.137458  0.141267 -0.206010   \n",
              "\n",
              "        V26       V27       V28  Amount  Class  \n",
              "0 -0.189115  0.133558 -0.021053  149.62      0  \n",
              "1  0.125895 -0.008983  0.014724    2.69      1  \n",
              "2 -0.139097 -0.055353 -0.059752  378.66      0  \n",
              "3 -0.221929  0.062723  0.061458  123.50      0  \n",
              "4  0.502292  0.219422  0.215153   69.99      0  \n",
              "\n",
              "[5 rows x 31 columns]"
            ],
            "text/html": [
              "\n",
              "  <div id=\"df-ae90419e-9e5e-483c-9080-7f00cef24a38\" class=\"colab-df-container\">\n",
              "    <div>\n",
              "<style scoped>\n",
              "    .dataframe tbody tr th:only-of-type {\n",
              "        vertical-align: middle;\n",
              "    }\n",
              "\n",
              "    .dataframe tbody tr th {\n",
              "        vertical-align: top;\n",
              "    }\n",
              "\n",
              "    .dataframe thead th {\n",
              "        text-align: right;\n",
              "    }\n",
              "</style>\n",
              "<table border=\"1\" class=\"dataframe\">\n",
              "  <thead>\n",
              "    <tr style=\"text-align: right;\">\n",
              "      <th></th>\n",
              "      <th>Time</th>\n",
              "      <th>V1</th>\n",
              "      <th>V2</th>\n",
              "      <th>V3</th>\n",
              "      <th>V4</th>\n",
              "      <th>V5</th>\n",
              "      <th>V6</th>\n",
              "      <th>V7</th>\n",
              "      <th>V8</th>\n",
              "      <th>V9</th>\n",
              "      <th>...</th>\n",
              "      <th>V21</th>\n",
              "      <th>V22</th>\n",
              "      <th>V23</th>\n",
              "      <th>V24</th>\n",
              "      <th>V25</th>\n",
              "      <th>V26</th>\n",
              "      <th>V27</th>\n",
              "      <th>V28</th>\n",
              "      <th>Amount</th>\n",
              "      <th>Class</th>\n",
              "    </tr>\n",
              "  </thead>\n",
              "  <tbody>\n",
              "    <tr>\n",
              "      <th>0</th>\n",
              "      <td>0</td>\n",
              "      <td>-1.359807</td>\n",
              "      <td>-0.072781</td>\n",
              "      <td>2.536347</td>\n",
              "      <td>1.378155</td>\n",
              "      <td>-0.338321</td>\n",
              "      <td>0.462388</td>\n",
              "      <td>0.239599</td>\n",
              "      <td>0.098698</td>\n",
              "      <td>0.363787</td>\n",
              "      <td>...</td>\n",
              "      <td>-0.018307</td>\n",
              "      <td>0.277838</td>\n",
              "      <td>-0.110474</td>\n",
              "      <td>0.066928</td>\n",
              "      <td>0.128539</td>\n",
              "      <td>-0.189115</td>\n",
              "      <td>0.133558</td>\n",
              "      <td>-0.021053</td>\n",
              "      <td>149.62</td>\n",
              "      <td>0</td>\n",
              "    </tr>\n",
              "    <tr>\n",
              "      <th>1</th>\n",
              "      <td>0</td>\n",
              "      <td>1.191857</td>\n",
              "      <td>0.266151</td>\n",
              "      <td>0.166480</td>\n",
              "      <td>0.448154</td>\n",
              "      <td>0.060018</td>\n",
              "      <td>-0.082361</td>\n",
              "      <td>-0.078803</td>\n",
              "      <td>0.085102</td>\n",
              "      <td>-0.255425</td>\n",
              "      <td>...</td>\n",
              "      <td>-0.225775</td>\n",
              "      <td>-0.638672</td>\n",
              "      <td>0.101288</td>\n",
              "      <td>-0.339846</td>\n",
              "      <td>0.167170</td>\n",
              "      <td>0.125895</td>\n",
              "      <td>-0.008983</td>\n",
              "      <td>0.014724</td>\n",
              "      <td>2.69</td>\n",
              "      <td>1</td>\n",
              "    </tr>\n",
              "    <tr>\n",
              "      <th>2</th>\n",
              "      <td>1</td>\n",
              "      <td>-1.358354</td>\n",
              "      <td>-1.340163</td>\n",
              "      <td>1.773209</td>\n",
              "      <td>0.379780</td>\n",
              "      <td>-0.503198</td>\n",
              "      <td>1.800499</td>\n",
              "      <td>0.791461</td>\n",
              "      <td>0.247676</td>\n",
              "      <td>-1.514654</td>\n",
              "      <td>...</td>\n",
              "      <td>0.247998</td>\n",
              "      <td>0.771679</td>\n",
              "      <td>0.909412</td>\n",
              "      <td>-0.689281</td>\n",
              "      <td>-0.327642</td>\n",
              "      <td>-0.139097</td>\n",
              "      <td>-0.055353</td>\n",
              "      <td>-0.059752</td>\n",
              "      <td>378.66</td>\n",
              "      <td>0</td>\n",
              "    </tr>\n",
              "    <tr>\n",
              "      <th>3</th>\n",
              "      <td>1</td>\n",
              "      <td>-0.966272</td>\n",
              "      <td>-0.185226</td>\n",
              "      <td>1.792993</td>\n",
              "      <td>-0.863291</td>\n",
              "      <td>-0.010309</td>\n",
              "      <td>1.247203</td>\n",
              "      <td>0.237609</td>\n",
              "      <td>0.377436</td>\n",
              "      <td>-1.387024</td>\n",
              "      <td>...</td>\n",
              "      <td>-0.108300</td>\n",
              "      <td>0.005274</td>\n",
              "      <td>-0.190321</td>\n",
              "      <td>-1.175575</td>\n",
              "      <td>0.647376</td>\n",
              "      <td>-0.221929</td>\n",
              "      <td>0.062723</td>\n",
              "      <td>0.061458</td>\n",
              "      <td>123.50</td>\n",
              "      <td>0</td>\n",
              "    </tr>\n",
              "    <tr>\n",
              "      <th>4</th>\n",
              "      <td>2</td>\n",
              "      <td>-1.158233</td>\n",
              "      <td>0.877737</td>\n",
              "      <td>1.548718</td>\n",
              "      <td>0.403034</td>\n",
              "      <td>-0.407193</td>\n",
              "      <td>0.095921</td>\n",
              "      <td>0.592941</td>\n",
              "      <td>-0.270533</td>\n",
              "      <td>0.817739</td>\n",
              "      <td>...</td>\n",
              "      <td>-0.009431</td>\n",
              "      <td>0.798278</td>\n",
              "      <td>-0.137458</td>\n",
              "      <td>0.141267</td>\n",
              "      <td>-0.206010</td>\n",
              "      <td>0.502292</td>\n",
              "      <td>0.219422</td>\n",
              "      <td>0.215153</td>\n",
              "      <td>69.99</td>\n",
              "      <td>0</td>\n",
              "    </tr>\n",
              "  </tbody>\n",
              "</table>\n",
              "<p>5 rows × 31 columns</p>\n",
              "</div>\n",
              "    <div class=\"colab-df-buttons\">\n",
              "\n",
              "  <div class=\"colab-df-container\">\n",
              "    <button class=\"colab-df-convert\" onclick=\"convertToInteractive('df-ae90419e-9e5e-483c-9080-7f00cef24a38')\"\n",
              "            title=\"Convert this dataframe to an interactive table.\"\n",
              "            style=\"display:none;\">\n",
              "\n",
              "  <svg xmlns=\"http://www.w3.org/2000/svg\" height=\"24px\" viewBox=\"0 -960 960 960\">\n",
              "    <path d=\"M120-120v-720h720v720H120Zm60-500h600v-160H180v160Zm220 220h160v-160H400v160Zm0 220h160v-160H400v160ZM180-400h160v-160H180v160Zm440 0h160v-160H620v160ZM180-180h160v-160H180v160Zm440 0h160v-160H620v160Z\"/>\n",
              "  </svg>\n",
              "    </button>\n",
              "\n",
              "  <style>\n",
              "    .colab-df-container {\n",
              "      display:flex;\n",
              "      gap: 12px;\n",
              "    }\n",
              "\n",
              "    .colab-df-convert {\n",
              "      background-color: #E8F0FE;\n",
              "      border: none;\n",
              "      border-radius: 50%;\n",
              "      cursor: pointer;\n",
              "      display: none;\n",
              "      fill: #1967D2;\n",
              "      height: 32px;\n",
              "      padding: 0 0 0 0;\n",
              "      width: 32px;\n",
              "    }\n",
              "\n",
              "    .colab-df-convert:hover {\n",
              "      background-color: #E2EBFA;\n",
              "      box-shadow: 0px 1px 2px rgba(60, 64, 67, 0.3), 0px 1px 3px 1px rgba(60, 64, 67, 0.15);\n",
              "      fill: #174EA6;\n",
              "    }\n",
              "\n",
              "    .colab-df-buttons div {\n",
              "      margin-bottom: 4px;\n",
              "    }\n",
              "\n",
              "    [theme=dark] .colab-df-convert {\n",
              "      background-color: #3B4455;\n",
              "      fill: #D2E3FC;\n",
              "    }\n",
              "\n",
              "    [theme=dark] .colab-df-convert:hover {\n",
              "      background-color: #434B5C;\n",
              "      box-shadow: 0px 1px 3px 1px rgba(0, 0, 0, 0.15);\n",
              "      filter: drop-shadow(0px 1px 2px rgba(0, 0, 0, 0.3));\n",
              "      fill: #FFFFFF;\n",
              "    }\n",
              "  </style>\n",
              "\n",
              "    <script>\n",
              "      const buttonEl =\n",
              "        document.querySelector('#df-ae90419e-9e5e-483c-9080-7f00cef24a38 button.colab-df-convert');\n",
              "      buttonEl.style.display =\n",
              "        google.colab.kernel.accessAllowed ? 'block' : 'none';\n",
              "\n",
              "      async function convertToInteractive(key) {\n",
              "        const element = document.querySelector('#df-ae90419e-9e5e-483c-9080-7f00cef24a38');\n",
              "        const dataTable =\n",
              "          await google.colab.kernel.invokeFunction('convertToInteractive',\n",
              "                                                    [key], {});\n",
              "        if (!dataTable) return;\n",
              "\n",
              "        const docLinkHtml = 'Like what you see? Visit the ' +\n",
              "          '<a target=\"_blank\" href=https://colab.research.google.com/notebooks/data_table.ipynb>data table notebook</a>'\n",
              "          + ' to learn more about interactive tables.';\n",
              "        element.innerHTML = '';\n",
              "        dataTable['output_type'] = 'display_data';\n",
              "        await google.colab.output.renderOutput(dataTable, element);\n",
              "        const docLink = document.createElement('div');\n",
              "        docLink.innerHTML = docLinkHtml;\n",
              "        element.appendChild(docLink);\n",
              "      }\n",
              "    </script>\n",
              "  </div>\n",
              "\n",
              "\n",
              "<div id=\"df-5a74c2d6-a2f1-4dc4-8395-a60873a8ecd1\">\n",
              "  <button class=\"colab-df-quickchart\" onclick=\"quickchart('df-5a74c2d6-a2f1-4dc4-8395-a60873a8ecd1')\"\n",
              "            title=\"Suggest charts\"\n",
              "            style=\"display:none;\">\n",
              "\n",
              "<svg xmlns=\"http://www.w3.org/2000/svg\" height=\"24px\"viewBox=\"0 0 24 24\"\n",
              "     width=\"24px\">\n",
              "    <g>\n",
              "        <path d=\"M19 3H5c-1.1 0-2 .9-2 2v14c0 1.1.9 2 2 2h14c1.1 0 2-.9 2-2V5c0-1.1-.9-2-2-2zM9 17H7v-7h2v7zm4 0h-2V7h2v10zm4 0h-2v-4h2v4z\"/>\n",
              "    </g>\n",
              "</svg>\n",
              "  </button>\n",
              "\n",
              "<style>\n",
              "  .colab-df-quickchart {\n",
              "      --bg-color: #E8F0FE;\n",
              "      --fill-color: #1967D2;\n",
              "      --hover-bg-color: #E2EBFA;\n",
              "      --hover-fill-color: #174EA6;\n",
              "      --disabled-fill-color: #AAA;\n",
              "      --disabled-bg-color: #DDD;\n",
              "  }\n",
              "\n",
              "  [theme=dark] .colab-df-quickchart {\n",
              "      --bg-color: #3B4455;\n",
              "      --fill-color: #D2E3FC;\n",
              "      --hover-bg-color: #434B5C;\n",
              "      --hover-fill-color: #FFFFFF;\n",
              "      --disabled-bg-color: #3B4455;\n",
              "      --disabled-fill-color: #666;\n",
              "  }\n",
              "\n",
              "  .colab-df-quickchart {\n",
              "    background-color: var(--bg-color);\n",
              "    border: none;\n",
              "    border-radius: 50%;\n",
              "    cursor: pointer;\n",
              "    display: none;\n",
              "    fill: var(--fill-color);\n",
              "    height: 32px;\n",
              "    padding: 0;\n",
              "    width: 32px;\n",
              "  }\n",
              "\n",
              "  .colab-df-quickchart:hover {\n",
              "    background-color: var(--hover-bg-color);\n",
              "    box-shadow: 0 1px 2px rgba(60, 64, 67, 0.3), 0 1px 3px 1px rgba(60, 64, 67, 0.15);\n",
              "    fill: var(--button-hover-fill-color);\n",
              "  }\n",
              "\n",
              "  .colab-df-quickchart-complete:disabled,\n",
              "  .colab-df-quickchart-complete:disabled:hover {\n",
              "    background-color: var(--disabled-bg-color);\n",
              "    fill: var(--disabled-fill-color);\n",
              "    box-shadow: none;\n",
              "  }\n",
              "\n",
              "  .colab-df-spinner {\n",
              "    border: 2px solid var(--fill-color);\n",
              "    border-color: transparent;\n",
              "    border-bottom-color: var(--fill-color);\n",
              "    animation:\n",
              "      spin 1s steps(1) infinite;\n",
              "  }\n",
              "\n",
              "  @keyframes spin {\n",
              "    0% {\n",
              "      border-color: transparent;\n",
              "      border-bottom-color: var(--fill-color);\n",
              "      border-left-color: var(--fill-color);\n",
              "    }\n",
              "    20% {\n",
              "      border-color: transparent;\n",
              "      border-left-color: var(--fill-color);\n",
              "      border-top-color: var(--fill-color);\n",
              "    }\n",
              "    30% {\n",
              "      border-color: transparent;\n",
              "      border-left-color: var(--fill-color);\n",
              "      border-top-color: var(--fill-color);\n",
              "      border-right-color: var(--fill-color);\n",
              "    }\n",
              "    40% {\n",
              "      border-color: transparent;\n",
              "      border-right-color: var(--fill-color);\n",
              "      border-top-color: var(--fill-color);\n",
              "    }\n",
              "    60% {\n",
              "      border-color: transparent;\n",
              "      border-right-color: var(--fill-color);\n",
              "    }\n",
              "    80% {\n",
              "      border-color: transparent;\n",
              "      border-right-color: var(--fill-color);\n",
              "      border-bottom-color: var(--fill-color);\n",
              "    }\n",
              "    90% {\n",
              "      border-color: transparent;\n",
              "      border-bottom-color: var(--fill-color);\n",
              "    }\n",
              "  }\n",
              "</style>\n",
              "\n",
              "  <script>\n",
              "    async function quickchart(key) {\n",
              "      const quickchartButtonEl =\n",
              "        document.querySelector('#' + key + ' button');\n",
              "      quickchartButtonEl.disabled = true;  // To prevent multiple clicks.\n",
              "      quickchartButtonEl.classList.add('colab-df-spinner');\n",
              "      try {\n",
              "        const charts = await google.colab.kernel.invokeFunction(\n",
              "            'suggestCharts', [key], {});\n",
              "      } catch (error) {\n",
              "        console.error('Error during call to suggestCharts:', error);\n",
              "      }\n",
              "      quickchartButtonEl.classList.remove('colab-df-spinner');\n",
              "      quickchartButtonEl.classList.add('colab-df-quickchart-complete');\n",
              "    }\n",
              "    (() => {\n",
              "      let quickchartButtonEl =\n",
              "        document.querySelector('#df-5a74c2d6-a2f1-4dc4-8395-a60873a8ecd1 button');\n",
              "      quickchartButtonEl.style.display =\n",
              "        google.colab.kernel.accessAllowed ? 'block' : 'none';\n",
              "    })();\n",
              "  </script>\n",
              "</div>\n",
              "    </div>\n",
              "  </div>\n"
            ]
          },
          "metadata": {},
          "execution_count": 2
        }
      ]
    },
    {
      "cell_type": "code",
      "source": [
        "data.info()\n",
        "data.shape"
      ],
      "metadata": {
        "colab": {
          "base_uri": "https://localhost:8080/"
        },
        "id": "PiY70aiKVYA9",
        "outputId": "6b8fa9b8-04e8-4a3f-bdaa-cae7a393d4ff"
      },
      "execution_count": 3,
      "outputs": [
        {
          "output_type": "stream",
          "name": "stdout",
          "text": [
            "<class 'pandas.core.frame.DataFrame'>\n",
            "RangeIndex: 772 entries, 0 to 771\n",
            "Data columns (total 31 columns):\n",
            " #   Column  Non-Null Count  Dtype  \n",
            "---  ------  --------------  -----  \n",
            " 0   Time    772 non-null    int64  \n",
            " 1   V1      772 non-null    float64\n",
            " 2   V2      772 non-null    float64\n",
            " 3   V3      772 non-null    float64\n",
            " 4   V4      772 non-null    float64\n",
            " 5   V5      772 non-null    float64\n",
            " 6   V6      772 non-null    float64\n",
            " 7   V7      772 non-null    float64\n",
            " 8   V8      772 non-null    float64\n",
            " 9   V9      772 non-null    float64\n",
            " 10  V10     772 non-null    float64\n",
            " 11  V11     772 non-null    float64\n",
            " 12  V12     772 non-null    float64\n",
            " 13  V13     772 non-null    float64\n",
            " 14  V14     772 non-null    float64\n",
            " 15  V15     772 non-null    float64\n",
            " 16  V16     772 non-null    float64\n",
            " 17  V17     772 non-null    float64\n",
            " 18  V18     772 non-null    float64\n",
            " 19  V19     772 non-null    float64\n",
            " 20  V20     772 non-null    float64\n",
            " 21  V21     772 non-null    float64\n",
            " 22  V22     772 non-null    float64\n",
            " 23  V23     772 non-null    float64\n",
            " 24  V24     772 non-null    float64\n",
            " 25  V25     772 non-null    float64\n",
            " 26  V26     772 non-null    float64\n",
            " 27  V27     772 non-null    float64\n",
            " 28  V28     772 non-null    float64\n",
            " 29  Amount  772 non-null    float64\n",
            " 30  Class   772 non-null    int64  \n",
            "dtypes: float64(29), int64(2)\n",
            "memory usage: 187.1 KB\n"
          ]
        },
        {
          "output_type": "execute_result",
          "data": {
            "text/plain": [
              "(772, 31)"
            ]
          },
          "metadata": {},
          "execution_count": 3
        }
      ]
    },
    {
      "cell_type": "code",
      "source": [
        "# class count\n",
        "class_count_0, class_count_1 = data['Class'].value_counts()\n",
        "\n",
        "# Separate class\n",
        "class_0 = data[data['Class'] == 0]\n",
        "class_1 = data[data['Class'] == 1]# print the shape of the class\n",
        "print('class 0:', class_0.shape)\n",
        "print('class 1:', class_1.shape)"
      ],
      "metadata": {
        "colab": {
          "base_uri": "https://localhost:8080/"
        },
        "id": "JWDH5oPLU47t",
        "outputId": "0d79bfce-f17f-49c0-862a-4428229d9f67"
      },
      "execution_count": 7,
      "outputs": [
        {
          "output_type": "stream",
          "name": "stdout",
          "text": [
            "class 0: (763, 31)\n",
            "class 1: (9, 31)\n"
          ]
        }
      ]
    },
    {
      "cell_type": "code",
      "source": [
        "sns.countplot(data, x = 'Class')"
      ],
      "metadata": {
        "colab": {
          "base_uri": "https://localhost:8080/",
          "height": 471
        },
        "id": "znpiEwdRNmQ6",
        "outputId": "17daf3c0-e7d9-45c4-ce18-ddaf08880b44"
      },
      "execution_count": 4,
      "outputs": [
        {
          "output_type": "execute_result",
          "data": {
            "text/plain": [
              "<Axes: xlabel='Class', ylabel='count'>"
            ]
          },
          "metadata": {},
          "execution_count": 4
        },
        {
          "output_type": "display_data",
          "data": {
            "text/plain": [
              "<Figure size 640x480 with 1 Axes>"
            ],
            "image/png": "[encoded data removed]"
          },
          "metadata": {}
        }
      ]
    },
    {
      "cell_type": "markdown",
      "source": [
        "#Balancing the dataset by oversampling class 1"
      ],
      "metadata": {
        "id": "jMqmzhaBjH6_"
      }
    },
    {
      "cell_type": "code",
      "source": [
        "from imblearn.over_sampling import SMOTE\n",
        "from sklearn.model_selection import train_test_split\n",
        "import pandas as pd\n",
        "\n",
        "# Separate input features and target\n",
        "X = data.drop('Class', axis=1)  #Features\n",
        "y = data['Class']  # Target variable\n",
        "\n",
        "# Oversampling the minority class in the training set\n",
        "smote = SMOTE(random_state=42)\n",
        "X_oversampled, y_oversampled = smote.fit_resample(X, y)\n",
        "\n",
        "# Combine the oversampled features and target into a new DataFrame\n",
        "new_data = pd.concat([pd.DataFrame(X_oversampled), pd.DataFrame(y_oversampled, columns=['Class'])], axis=1)\n",
        "\n",
        "# Checking the balance\n",
        "print(f\"Before Oversampling: \\n{y.value_counts()}\")\n",
        "print(f\"After Oversampling: \\n{y_oversampled.value_counts()}\")\n",
        "y_oversampled.value_counts().plot(kind='bar', title='count (target)')"
      ],
      "metadata": {
        "colab": {
          "base_uri": "https://localhost:8080/",
          "height": 603
        },
        "id": "WUESzo13V7v9",
        "outputId": "5effed29-ed28-401d-d398-66817673591b"
      },
      "execution_count": 6,
      "outputs": [
        {
          "output_type": "stream",
          "name": "stdout",
          "text": [
            "Before Oversampling: \n",
            "0    763\n",
            "1      9\n",
            "Name: Class, dtype: int64\n",
            "After Oversampling: \n",
            "0    763\n",
            "1    763\n",
            "Name: Class, dtype: int64\n"
          ]
        },
        {
          "output_type": "execute_result",
          "data": {
            "text/plain": [
              "<Axes: title={'center': 'count (target)'}>"
            ]
          },
          "metadata": {},
          "execution_count": 6
        },
        {
          "output_type": "display_data",
          "data": {
            "text/plain": [
              "<Figure size 640x480 with 1 Axes>"
            ],
            "image/png": "[encoded data removed]"
          },
          "metadata": {}
        }
      ]
    },
    {
      "cell_type": "markdown",
      "source": [
        "#Applying Sampling Techniques"
      ],
      "metadata": {
        "id": "Pk12alKdjYjQ"
      }
    },
    {
      "cell_type": "markdown",
      "source": [
        "SIMPLE RANDOM SAMPLING"
      ],
      "metadata": {
        "id": "bDg1d7S6gE4A"
      }
    },
    {
      "cell_type": "markdown",
      "source": [
        "sample size calculation:\n",
        "sample size = round((z^2 * p * (1-p)) /(E^2)) = 385"
      ],
      "metadata": {
        "id": "br_JwJm_POk1"
      }
    },
    {
      "cell_type": "code",
      "source": [
        "import random as rd\n",
        "\n",
        "sample_size = 385\n",
        "\n",
        "# Perform simple random sampling\n",
        "random_sample_indices = rd.sample(list(new_data.index.values), sample_size)\n",
        "\n",
        "# Create a sample DataFrame\n",
        "sample_1 = new_data.loc[random_sample_indices]\n",
        "print(sample_1)"
      ],
      "metadata": {
        "colab": {
          "base_uri": "https://localhost:8080/"
        },
        "id": "zwo6KDAGYHyM",
        "outputId": "0ba530ec-dea7-45a2-be07-e0cde2b70a8c"
      },
      "execution_count": 7,
      "outputs": [
        {
          "output_type": "stream",
          "name": "stdout",
          "text": [
            "      Time        V1        V2        V3        V4        V5        V6  \\\n",
            "1362   492 -1.055612  0.343840  1.653953  0.050613  0.959186 -0.805149   \n",
            "89      59 -0.773293 -4.146007 -0.932038  0.027094 -1.698307  0.460188   \n",
            "42      33 -0.607877  1.031345  1.740450  1.232106  0.418592  0.119168   \n",
            "423    307  1.169209 -0.032254  1.011697  1.353641 -0.876062 -0.320567   \n",
            "841    538 -1.754915 -0.106120  1.266860 -0.544643  1.016715 -0.236550   \n",
            "...    ...       ...       ...       ...       ...       ...       ...   \n",
            "1421   214 -0.085693  0.526741  0.656800  0.125725  0.845745  0.068306   \n",
            "693    524 -0.795322  0.081238  2.210568  0.268145 -0.506875 -0.303840   \n",
            "118     76 -0.997176  0.228365  1.715340 -0.420067  0.560838  0.564725   \n",
            "433    312  0.230981 -2.000483  0.555155  0.600646 -1.551024  0.242333   \n",
            "1253   235 -0.333068 -0.046155  0.846927  0.315905  1.144241  0.318673   \n",
            "\n",
            "            V7        V8        V9  ...       V21       V22       V23  \\\n",
            "1362  0.783049 -0.109825 -0.116065  ...  0.027664  0.206890 -0.258582   \n",
            "89    0.737344 -0.314216 -0.842673  ...  0.890978  0.026123 -1.134769   \n",
            "42    0.850893 -0.176267 -0.243501  ... -0.087329  0.258315 -0.264775   \n",
            "423  -0.443364  0.053143  0.868260  ...  0.083530  0.452190 -0.134359   \n",
            "841   0.120756  0.181011  0.081775  ... -0.142016 -0.105542 -0.226986   \n",
            "...        ...       ...       ...  ...       ...       ...       ...   \n",
            "1421  0.388931  0.092437 -0.126081  ... -0.097748 -0.276507  0.086009   \n",
            "693  -0.180829  0.085540  0.248346  ...  0.210198  0.869922 -0.118656   \n",
            "118   0.846047  0.197491 -0.097202  ... -0.070241  0.015445  0.072651   \n",
            "433  -0.133183  0.105984  1.248546  ...  0.079669 -0.610378 -0.309129   \n",
            "1253 -0.175411  0.266686  0.089019  ... -0.020708 -0.072740  0.179793   \n",
            "\n",
            "           V24       V25       V26       V27       V28       Amount  Class  \n",
            "1362  0.287383  0.276863 -0.344631 -0.142317 -0.166327     1.000000      1  \n",
            "89   -0.654958  0.098386 -0.209150 -0.171709  0.208057  1142.020000      0  \n",
            "42    0.118282  0.173508 -0.217041  0.094312 -0.033041    14.800000      0  \n",
            "423   0.407710  0.633324 -0.213844  0.056280  0.028997     9.970000      0  \n",
            "841  -0.276105 -0.327826  0.279018 -0.331383 -0.370316     1.031171      1  \n",
            "...        ...       ...       ...       ...       ...          ...    ...  \n",
            "1421 -1.085928 -1.106138 -0.008708  0.178315  0.173599     0.991589      1  \n",
            "693   0.744594 -0.504294  1.259841  0.014692  0.128346    37.890000      0  \n",
            "118  -0.272272 -0.087682  0.138132  0.125902 -0.063022    86.430000      0  \n",
            "433   0.167024 -0.137728  0.922421 -0.113353  0.093969   493.440000      0  \n",
            "1253 -1.264611 -1.159780  0.229409  0.161893  0.151520     1.089972      1  \n",
            "\n",
            "[385 rows x 31 columns]\n"
          ]
        }
      ]
    },
    {
      "cell_type": "markdown",
      "source": [
        "SYSTEMATIC SAMPLING"
      ],
      "metadata": {
        "id": "pbHHqxNFgJEO"
      }
    },
    {
      "cell_type": "code",
      "source": [
        "size = 385\n",
        "length = len(new_data)\n",
        "interval = length // size\n",
        "print('interval:',interval)\n",
        "\n",
        "rd.seed(42)\n",
        "first = rd.randint(0, interval)\n",
        "print('first element:',first)\n"
      ],
      "metadata": {
        "colab": {
          "base_uri": "https://localhost:8080/"
        },
        "id": "JQ8E0ZzHe4Z3",
        "outputId": "e64e5dfa-52d0-4dde-c386-86b06f1b7715"
      },
      "execution_count": 8,
      "outputs": [
        {
          "output_type": "stream",
          "name": "stdout",
          "text": [
            "interval: 3\n",
            "first element: 0\n"
          ]
        }
      ]
    },
    {
      "cell_type": "code",
      "source": [
        "indexes = np.arange(first, length, step = interval)\n",
        "sample_2 = new_data.iloc[indexes]\n",
        "print(sample_2)"
      ],
      "metadata": {
        "colab": {
          "base_uri": "https://localhost:8080/"
        },
        "id": "oyc8Lk-WfNEi",
        "outputId": "5c8b98cd-700e-49e3-ae08-63ed75c8d20e"
      },
      "execution_count": 9,
      "outputs": [
        {
          "output_type": "stream",
          "name": "stdout",
          "text": [
            "      Time        V1        V2        V3        V4        V5        V6  \\\n",
            "0        0 -1.359807 -0.072781  2.536347  1.378155 -0.338321  0.462388   \n",
            "3        1 -0.966272 -0.185226  1.792993 -0.863291 -0.010309  1.247203   \n",
            "6        4  1.229658  0.141004  0.045371  1.202613  0.191881  0.272708   \n",
            "9        9 -0.338262  1.119593  1.044367 -0.222187  0.499361 -0.246761   \n",
            "12      10  1.249999 -1.221637  0.383930 -1.234899 -1.485419 -0.753230   \n",
            "...    ...       ...       ...       ...       ...       ...       ...   \n",
            "1512   153  0.811803  0.549251  0.064937  1.103635 -0.390192 -1.114514   \n",
            "1515   453 -2.192738  0.246850 -0.046748  2.902218  0.621940 -0.651777   \n",
            "1518   110  1.250828  0.344835  0.293675  0.677241 -0.343510 -1.006242   \n",
            "1521   233 -0.143424  0.517932  0.731111  0.129628  0.854012  0.001878   \n",
            "1524   516 -2.181198 -1.036044  1.153616  0.342333  1.069585 -0.553986   \n",
            "\n",
            "            V7        V8        V9  ...       V21       V22       V23  \\\n",
            "0     0.239599  0.098698  0.363787  ... -0.018307  0.277838 -0.110474   \n",
            "3     0.237609  0.377436 -1.387024  ... -0.108300  0.005274 -0.190321   \n",
            "6    -0.005159  0.081213  0.464960  ... -0.167716 -0.270710 -0.154104   \n",
            "9     0.651583  0.069539 -0.736727  ... -0.246914 -0.633753 -0.120794   \n",
            "12   -0.689405 -0.227487 -2.094011  ... -0.231809 -0.483285  0.084668   \n",
            "...        ...       ...       ...  ...       ...       ...       ...   \n",
            "1512 -0.239193 -0.004768 -0.313313  ... -0.187617 -0.733600  0.054384   \n",
            "1515 -2.373599  1.160351 -1.340447  ...  0.480894  0.436697 -0.172662   \n",
            "1518  0.076051 -0.184178  0.016325  ... -0.283587 -0.820110  0.126347   \n",
            "1521  0.422518  0.075371 -0.127180  ... -0.086502 -0.238275  0.062436   \n",
            "1524  0.288244  0.069938 -0.076396  ...  0.105787  0.020804  0.293645   \n",
            "\n",
            "           V24       V25       V26       V27       V28      Amount  Class  \n",
            "0     0.066928  0.128539 -0.189115  0.133558 -0.021053  149.620000      0  \n",
            "3    -1.175575  0.647376 -0.221929  0.062723  0.061458  123.500000      0  \n",
            "6    -0.780055  0.750137 -0.257237  0.034507  0.005168    4.990000      0  \n",
            "9    -0.385050 -0.069733  0.094199  0.246219  0.083076    3.680000      0  \n",
            "12    0.392831  0.161135 -0.354990  0.026416  0.042422  121.500000      0  \n",
            "...        ...       ...       ...       ...       ...         ...    ...  \n",
            "1512  0.337038  0.194649  0.105031  0.011986  0.009257    2.355848      1  \n",
            "1515 -0.131174 -0.056636  0.439768  0.113244 -0.153928    0.575093      1  \n",
            "1518  0.295411  0.212783  0.096725 -0.022423  0.029844    2.690000      1  \n",
            "1521 -0.985098 -1.003529 -0.039215  0.158937  0.153083    0.992166      1  \n",
            "1524 -0.256581 -0.126499  0.109506 -0.313804 -0.241336  180.086978      1  \n",
            "\n",
            "[509 rows x 31 columns]\n"
          ]
        }
      ]
    },
    {
      "cell_type": "markdown",
      "source": [
        "STARTIFIED SAMPLING"
      ],
      "metadata": {
        "id": "K3e2ILH4hXMd"
      }
    },
    {
      "cell_type": "markdown",
      "source": [
        "sample size calculation:\n",
        "sample size = round((z^2 * p * (1-p)) /((E/S)^2)) = 1537"
      ],
      "metadata": {
        "id": "UpERBwjDQOr5"
      }
    },
    {
      "cell_type": "code",
      "source": [
        "(new_data['Class'].value_counts()) / len(new_data) * 100"
      ],
      "metadata": {
        "colab": {
          "base_uri": "https://localhost:8080/"
        },
        "id": "SrkyWtfShZcr",
        "outputId": "4fc7f7ed-d4c0-414c-bdb5-957387aa2ff5"
      },
      "execution_count": 15,
      "outputs": [
        {
          "output_type": "execute_result",
          "data": {
            "text/plain": [
              "0    50.0\n",
              "1    50.0\n",
              "Name: Class, dtype: float64"
            ]
          },
          "metadata": {},
          "execution_count": 15
        }
      ]
    },
    {
      "cell_type": "code",
      "source": [
        "new_data['Class'].value_counts()"
      ],
      "metadata": {
        "id": "wUstGevskwFb",
        "colab": {
          "base_uri": "https://localhost:8080/"
        },
        "outputId": "8d1cb4ed-a961-4eee-bf6d-2ff71ec8cbab"
      },
      "execution_count": 12,
      "outputs": [
        {
          "output_type": "execute_result",
          "data": {
            "text/plain": [
              "0    763\n",
              "1    763\n",
              "Name: Class, dtype: int64"
            ]
          },
          "metadata": {},
          "execution_count": 12
        }
      ]
    },
    {
      "cell_type": "code",
      "source": [
        "# For stratified sampling\n",
        "sampled_class_0 = new_data[new_data['Class'] == 0].sample(n = 1537//2, random_state=42, replace =True)\n",
        "sampled_class_1 = new_data[new_data['Class'] == 1].sample(n = 1537//2, random_state=42, replace =True)\n",
        "\n",
        "# Combine the samples\n",
        "sample_3 = pd.concat([sampled_class_0, sampled_class_1])\n",
        "\n",
        "print(sample_3)"
      ],
      "metadata": {
        "colab": {
          "base_uri": "https://localhost:8080/"
        },
        "id": "WP4JtLv36xAk",
        "outputId": "879a73ca-230c-4c22-a4ad-ffe352108c8b"
      },
      "execution_count": 17,
      "outputs": [
        {
          "output_type": "stream",
          "name": "stdout",
          "text": [
            "      Time        V1        V2        V3        V4        V5        V6  \\\n",
            "103     69 -0.608027  0.306694  1.473004  1.191127  0.021265  0.888442   \n",
            "438    315 -1.014693  0.444918  2.259005  0.336946 -0.492326 -0.649977   \n",
            "273    194 -1.131517  1.016399  0.735810  1.166614  0.790236 -1.187196   \n",
            "107     71  1.331897 -0.579962  0.422606 -0.897752 -0.746254 -0.056273   \n",
            "72      47  1.197839  0.236828  0.509605  0.657659 -0.365488 -0.745101   \n",
            "...    ...       ...       ...       ...       ...       ...       ...   \n",
            "1044   469 -3.019519 -2.989484  0.999832  2.344787  1.297988 -1.076704   \n",
            "825    353 -1.002641 -1.029667  1.497517  0.646836  1.673382  0.429334   \n",
            "979     84  1.236883  0.326230  0.263598  0.623071 -0.248092 -0.787781   \n",
            "1451   553 -0.230559 -0.941717  1.293643  0.895916  0.930201 -0.308451   \n",
            "1223   513 -1.621623 -1.473046  2.210621  0.801777  1.933554  0.065932   \n",
            "\n",
            "            V7        V8        V9  ...       V21       V22       V23  \\\n",
            "103   1.190491  0.042147 -0.446426  ...  0.046506  0.165163  0.063974   \n",
            "438   0.542460 -0.201798  0.491987  ...  0.090761  0.829358 -0.105669   \n",
            "273   0.736469 -0.327992 -0.555549  ...  0.009613  0.315739  0.054210   \n",
            "107  -0.750317  0.128484 -0.964682  ... -0.039070 -0.255174  0.109333   \n",
            "72    0.079497 -0.130536 -0.052263  ... -0.149876 -0.374211  0.145516   \n",
            "...        ...       ...       ...  ...       ...       ...       ...   \n",
            "1044  0.231536 -0.019856 -0.353041  ...  0.656951  0.420022  1.315489   \n",
            "825  -0.952306  0.476156  0.438278  ...  0.157240  0.436471  0.227192   \n",
            "979   0.039435 -0.120504 -0.047933  ... -0.269917 -0.777207  0.120421   \n",
            "1451 -0.912651  0.245849  0.445805  ...  0.037133  0.100208  0.205393   \n",
            "1223 -1.053994  0.454468  0.569813  ...  0.296630  0.872440  0.101452   \n",
            "\n",
            "           V24       V25       V26       V27       V28      Amount  Class  \n",
            "103  -0.333792  0.131776 -0.217692 -0.082183 -0.116730  168.560000      0  \n",
            "438   1.005763 -0.098694  0.396781  0.307894  0.098746   69.990000      0  \n",
            "273   0.294232  0.003877 -0.314159 -0.099512  0.122697    1.000000      0  \n",
            "107  -0.328448  0.162254 -0.447276  0.020071  0.006231   14.480000      0  \n",
            "72    0.414984  0.212156  0.181724 -0.016402  0.015994    3.630000      0  \n",
            "...        ...       ...       ...       ...       ...         ...    ...  \n",
            "1044 -0.273635  0.272070 -0.134746 -0.235893  0.029883  511.624111      1  \n",
            "825  -1.100979 -0.782145  0.483028  0.046845  0.021990    1.254616      1  \n",
            "979   0.145198  0.201998  0.103622 -0.019245  0.026269    2.690000      1  \n",
            "1451 -0.205099  0.019941  0.444562 -0.068977 -0.061325    1.385921      1  \n",
            "1223 -0.418090 -0.003632  0.396428 -0.117494 -0.155056    1.323332      1  \n",
            "\n",
            "[1536 rows x 31 columns]\n"
          ]
        }
      ]
    },
    {
      "cell_type": "markdown",
      "source": [
        "CLUSTER SAMPLING"
      ],
      "metadata": {
        "id": "pGa8Ajg48iA4"
      }
    },
    {
      "cell_type": "markdown",
      "source": [
        "sample size= round((z^2 * p * (1-p)) / (E/C)^2) = 384400"
      ],
      "metadata": {
        "id": "mQR67vTPTg4N"
      }
    },
    {
      "cell_type": "code",
      "source": [
        "n_clusters = 10\n",
        "cluster_size = len(new_data) // n_clusters\n",
        "\n",
        "# Assign each record to a cluster\n",
        "new_data['Cluster'] = [i % n_clusters for i in range(len(new_data))]\n",
        "\n",
        "np.random.seed(42)  # Ensure reproducibility\n",
        "selected_clusters = np.random.choice(range(n_clusters), size=3, replace=False)\n",
        "\n",
        "# Initialize an empty DataFrame to hold the sampled data\n",
        "sample_4 = pd.DataFrame()\n",
        "\n",
        "# Loop through each selected cluster and concatenate\n",
        "for cluster in selected_clusters:\n",
        "    cluster_data = new_data[new_data['Cluster'] == cluster]\n",
        "    sample_4 = pd.concat([sample_4, cluster_data], axis=0)\n",
        "\n",
        "sample_4 = sample_4.drop(['Cluster'], axis =1)\n",
        "print(sample_4)\n"
      ],
      "metadata": {
        "colab": {
          "base_uri": "https://localhost:8080/"
        },
        "id": "WIuzK3yH8ZEg",
        "outputId": "5ca3a578-d335-4049-b7b7-5b151a0ee2d5"
      },
      "execution_count": 19,
      "outputs": [
        {
          "output_type": "stream",
          "name": "stdout",
          "text": [
            "      Time        V1        V2        V3        V4        V5        V6  \\\n",
            "8        7 -0.894286  0.286157 -0.113192 -0.271526  2.669599  3.721818   \n",
            "18      14 -5.401258 -5.450148  1.186305  1.736239  3.049106 -1.763406   \n",
            "28      23 -0.414289  0.905437  1.727453  1.473471  0.007443 -0.200331   \n",
            "38      29  0.996370 -0.122589  0.546819  0.706580  0.134560  1.156995   \n",
            "48      35  1.386397 -0.794209  0.778224 -0.864708 -1.064132  0.351296   \n",
            "...    ...       ...       ...       ...       ...       ...       ...   \n",
            "1485   409 -2.246686  1.878418 -1.451177  3.817249 -0.451702 -1.401660   \n",
            "1495   260  0.128463 -0.634397  1.051496  0.847763  0.608961 -0.494305   \n",
            "1505   473 -0.880318  0.395219  1.705649  0.188655  0.945963 -0.882557   \n",
            "1515   453 -2.192738  0.246850 -0.046748  2.902218  0.621940 -0.651777   \n",
            "1525   365 -1.073464 -1.133695  1.566331  0.681840  1.729351  0.441039   \n",
            "\n",
            "            V7        V8        V9  ...       V21       V22       V23  \\\n",
            "8     0.370145  0.851084 -0.392048  ... -0.073425 -0.268092 -0.204233   \n",
            "18   -1.559738  0.160842  1.233090  ... -0.503600  0.984460  2.458589   \n",
            "28    0.740228 -0.029247 -0.593392  ...  0.077237  0.457331 -0.038500   \n",
            "38   -0.294561  0.407429  0.337863  ... -0.076302  0.108867  0.162231   \n",
            "48   -1.191455  0.052686 -0.304404  ... -0.228727 -0.123522 -0.131025   \n",
            "...        ...       ...       ...  ...       ...       ...       ...   \n",
            "1485 -2.375616  1.318346 -2.645651  ...  0.495883 -0.020066 -0.455398   \n",
            "1495 -0.673405  0.140130  0.354754  ... -0.041905 -0.130934  0.186821   \n",
            "1505  0.857433 -0.151144 -0.144671  ...  0.059771  0.260645 -0.249871   \n",
            "1515 -2.373599  1.160351 -1.340447  ...  0.480894  0.436697 -0.172662   \n",
            "1525 -1.034480  0.498312  0.475220  ...  0.176062  0.490331  0.232206   \n",
            "\n",
            "           V24       V25       V26       V27       V28     Amount  Class  \n",
            "8     1.011592  0.373205 -0.384157  0.011747  0.142404  93.200000      0  \n",
            "18    0.042119 -0.481631 -0.621272  0.392053  0.949594  46.800000      0  \n",
            "28    0.642522 -0.183891 -0.277464  0.182687  0.152665  33.000000      0  \n",
            "38   -0.575624  0.109795  0.373813  0.050552  0.005106  20.530000      0  \n",
            "48   -0.929668  0.181379  1.194928  0.000531  0.019911  30.900000      0  \n",
            "...        ...       ...       ...       ...       ...        ...    ...  \n",
            "1485  0.323285  0.060931  0.147928  0.243834 -0.142447   0.047351      1  \n",
            "1495 -0.074593  0.065335  0.359861 -0.058395 -0.038987   2.278240      1  \n",
            "1505  0.369042  0.386071 -0.440790 -0.102297 -0.122600   1.038082      1  \n",
            "1515 -0.131174 -0.056636  0.439768  0.113244 -0.153928   0.575093      1  \n",
            "1525 -1.083672 -0.742202  0.509854  0.034676  0.008290   1.272031      1  \n",
            "\n",
            "[458 rows x 31 columns]\n"
          ]
        }
      ]
    },
    {
      "cell_type": "code",
      "source": [
        "new_data = new_data.drop(['Cluster'], axis =1)"
      ],
      "metadata": {
        "id": "-e3onv-sWCrY"
      },
      "execution_count": 23,
      "outputs": []
    },
    {
      "cell_type": "markdown",
      "source": [
        "BOOTSTRAP SAMPLING"
      ],
      "metadata": {
        "id": "PGf1RVBXBBQ8"
      }
    },
    {
      "cell_type": "code",
      "source": [
        "def bootstrap_sample(data, n_samples):\n",
        "    \"\"\"Generate a bootstrap sample from the dataset.\"\"\"\n",
        "    return new_data.sample(n=n_samples, replace=True)\n",
        "\n",
        "\n",
        "sample_5 = bootstrap_sample(new_data, len(new_data))\n",
        "\n",
        "if 'Amount' in sample_5.columns:\n",
        "    mean_amount = sample_5['Amount'].mean()\n",
        "    print(f\"Mean Amount in Bootstrap Sample: {mean_amount}\")\n",
        "\n",
        "mean_amount_data = new_data['Amount'].mean()\n",
        "print(f\"Mean Amount in our dataset:{mean_amount_data}\\n\")\n",
        "\n",
        "print(sample_5)"
      ],
      "metadata": {
        "colab": {
          "base_uri": "https://localhost:8080/"
        },
        "id": "VDkYCZUjHW8H",
        "outputId": "97202da9-f5ff-464c-e1c1-27fbb04039fc"
      },
      "execution_count": 29,
      "outputs": [
        {
          "output_type": "stream",
          "name": "stdout",
          "text": [
            "Mean Amount in Bootstrap Sample: 52.01183247407347\n",
            "Mean Amount in our dataset:51.45516067577343\n",
            "\n",
            "      Time        V1        V2        V3        V4        V5        V6  \\\n",
            "707    534 -1.393265 -1.095569  2.607795 -2.529060 -0.135265 -0.373239   \n",
            "329    241 -2.398446  2.022961  1.628462 -0.540477 -0.512596  0.238407   \n",
            "1432   416 -2.130440  1.747924 -1.169749  3.496832 -0.326686 -1.357523   \n",
            "990    516 -1.407126  0.194015  1.413649 -0.313406  0.939339 -0.540930   \n",
            "322    236 -1.169087  1.096292  0.669688  1.052534  0.422465  0.703450   \n",
            "...    ...       ...       ...       ...       ...       ...       ...   \n",
            "774    457 -1.596218 -1.901549  2.074263  0.940207  2.142466  0.527435   \n",
            "364    266  0.982539 -0.229085  0.003051  1.444009  0.200645  0.636756   \n",
            "546    409  1.243758 -0.777764  1.016830 -0.250546 -1.268555  0.137280   \n",
            "270    190 -0.549414  0.676861  2.151950  1.014523 -0.620012  0.076154   \n",
            "1497   564  1.047940  0.458010  0.194288  0.884982 -0.367452 -1.088581   \n",
            "\n",
            "            V7        V8        V9  ...       V21       V22       V23  \\\n",
            "707   0.221446 -0.962847 -1.304498  ... -0.281365  0.563218 -0.129765   \n",
            "329   0.171944  0.179583  2.125255  ... -0.443560 -0.358061 -0.293969   \n",
            "1432 -2.088694  1.188318 -2.424944  ...  0.458016  0.006509 -0.437993   \n",
            "990   0.518518  0.019081 -0.044251  ... -0.078984  0.001569 -0.260279   \n",
            "322   0.039273  0.672068 -0.457399  ... -0.010604  0.224395  0.001345   \n",
            "...        ...       ...       ...  ...       ...       ...       ...   \n",
            "774  -1.641022  0.661850  0.747895  ...  0.314991  0.887886  0.269212   \n",
            "364   0.012166  0.128519 -0.361986  ... -0.315217 -1.347024 -0.033817   \n",
            "546  -1.057919  0.009986 -0.460486  ... -0.142455  0.042134 -0.125057   \n",
            "270   0.041578  0.342672  0.124723  ...  0.212024  0.850203 -0.185597   \n",
            "1497 -0.060371 -0.116165 -0.149172  ... -0.239606 -0.774494  0.092824   \n",
            "\n",
            "           V24       V25       V26       V27       V28      Amount  Class  \n",
            "707   0.089264  0.317551 -0.288551 -0.863521 -0.519168   25.000000      0  \n",
            "329  -0.464451  0.704249  0.429738  0.968048  0.400390    4.810000      0  \n",
            "1432  0.328759  0.090040  0.094876  0.213130 -0.140976    0.131335      1  \n",
            "990   0.017245 -0.038074 -0.043564 -0.246701 -0.278135    1.000000      1  \n",
            "322  -0.807532  0.035781 -0.198104  0.091107  0.075884    0.990000      0  \n",
            "...        ...       ...       ...       ...       ...         ...    ...  \n",
            "774  -0.955920 -0.447372  0.707861 -0.055145 -0.092838    1.400573      1  \n",
            "364  -1.359832 -0.005459  0.706075 -0.091822  0.024234  154.400000      0  \n",
            "546  -0.403785  0.212596  0.619155  0.035518  0.041399   72.000000      0  \n",
            "270   0.544990 -0.130609 -0.196374  0.422119  0.203313   20.700000      0  \n",
            "1497  0.341780  0.210743  0.099295 -0.005540  0.020706    1.214196      1  \n",
            "\n",
            "[1526 rows x 31 columns]\n"
          ]
        }
      ]
    },
    {
      "cell_type": "markdown",
      "source": [
        "#Training models"
      ],
      "metadata": {
        "id": "Ivo0zxgvXJ1z"
      }
    },
    {
      "cell_type": "code",
      "source": [
        "from sklearn.model_selection import train_test_split\n",
        "from sklearn.ensemble import RandomForestClassifier\n",
        "from sklearn.linear_model import LogisticRegression\n",
        "from sklearn.neighbors import KNeighborsClassifier\n",
        "from sklearn.ensemble import RandomForestClassifier, GradientBoostingClassifier\n",
        "from sklearn.svm import SVC\n",
        "from sklearn.preprocessing import StandardScaler\n",
        "from sklearn.metrics import accuracy_score"
      ],
      "metadata": {
        "id": "7Fo65SWiXOq7"
      },
      "execution_count": 30,
      "outputs": []
    },
    {
      "cell_type": "code",
      "source": [
        "models = {\n",
        "    \"Logistic Regression\": LogisticRegression(max_iter=1000),\n",
        "    \"K-Neighbors Classifier\": KNeighborsClassifier(),\n",
        "    \"Random Forest Classifier\": RandomForestClassifier(),\n",
        "    \"Gradient Boosting Classifier\": GradientBoostingClassifier(),\n",
        "    \"SVC\": SVC(probability=True)\n",
        "}"
      ],
      "metadata": {
        "id": "ehMIGFqdaM-T"
      },
      "execution_count": 31,
      "outputs": []
    },
    {
      "cell_type": "code",
      "source": [
        "samples = {\n",
        "    'Simple Random Sampling' : sample_1 ,\n",
        "    'Systematic Sampling' : sample_2 ,\n",
        "    'Stratified Sampling' : sample_3 ,\n",
        "    'Cluster Sampling' : sample_4 ,\n",
        "    'Bootstrap Sampling' : sample_5\n",
        "}"
      ],
      "metadata": {
        "id": "g7uVBh2jbVMJ"
      },
      "execution_count": 32,
      "outputs": []
    },
    {
      "cell_type": "code",
      "source": [
        "def train_evaluate(models, samples):\n",
        "    # Initialize a results dictionary\n",
        "    results = {sample_name: {} for sample_name in samples}\n",
        "\n",
        "    scaler = StandardScaler()\n",
        "\n",
        "    for sample_name, sample_data in samples.items():\n",
        "        X = sample_data.drop('Class', axis=1)\n",
        "        y = sample_data['Class']\n",
        "\n",
        "        # Split data into training and testing sets\n",
        "        X_train, X_test, y_train, y_test = train_test_split(X, y, test_size=0.2, random_state=42)\n",
        "\n",
        "        # Scale the features\n",
        "        X_train_scaled = scaler.fit_transform(X_train)\n",
        "        X_test_scaled = scaler.transform(X_test)\n",
        "\n",
        "        for model_name, model in models.items():\n",
        "            # Train model\n",
        "            model.fit(X_train_scaled, y_train)\n",
        "\n",
        "            # Predict on testing set\n",
        "            y_pred = model.predict(X_test_scaled)\n",
        "\n",
        "            # Calculate accuracy\n",
        "            accuracy = accuracy_score(y_test, y_pred)\n",
        "\n",
        "            # Store results\n",
        "            results[sample_name][model_name] = accuracy\n",
        "\n",
        "    return results\n",
        "\n",
        "# Execute the training and evaluation process\n",
        "execution = train_evaluate(models, samples)\n",
        "\n",
        "# Convert the results to a DataFrame for display\n",
        "results_df = pd.DataFrame(execution)\n",
        "results_df\n"
      ],
      "metadata": {
        "colab": {
          "base_uri": "https://localhost:8080/",
          "height": 206
        },
        "id": "LgIfW4RtcAga",
        "outputId": "99e0944b-c77a-4dae-d6ac-1e5d9ea2656b"
      },
      "execution_count": 36,
      "outputs": [
        {
          "output_type": "execute_result",
          "data": {
            "text/plain": [
              "                              Simple Random Sampling  Systematic Sampling  \\\n",
              "Logistic Regression                         0.922078             0.911765   \n",
              "K-Neighbors Classifier                      0.870130             0.872549   \n",
              "Random Forest Classifier                    0.987013             1.000000   \n",
              "Gradient Boosting Classifier                0.974026             0.990196   \n",
              "SVC                                         1.000000             0.960784   \n",
              "\n",
              "                              Stratified Sampling  Cluster Sampling  \\\n",
              "Logistic Regression                      0.944805          0.945652   \n",
              "K-Neighbors Classifier                   0.987013          0.891304   \n",
              "Random Forest Classifier                 1.000000          0.967391   \n",
              "Gradient Boosting Classifier             0.996753          0.967391   \n",
              "SVC                                      0.993506          0.989130   \n",
              "\n",
              "                              Bootstrap Sampling  \n",
              "Logistic Regression                     0.915033  \n",
              "K-Neighbors Classifier                  0.947712  \n",
              "Random Forest Classifier                1.000000  \n",
              "Gradient Boosting Classifier            0.986928  \n",
              "SVC                                     0.950980  "
            ],
            "text/html": [
              "\n",
              "  <div id=\"df-27ddf887-f56d-4473-b0b5-299ef5ca2dd0\" class=\"colab-df-container\">\n",
              "    <div>\n",
              "<style scoped>\n",
              "    .dataframe tbody tr th:only-of-type {\n",
              "        vertical-align: middle;\n",
              "    }\n",
              "\n",
              "    .dataframe tbody tr th {\n",
              "        vertical-align: top;\n",
              "    }\n",
              "\n",
              "    .dataframe thead th {\n",
              "        text-align: right;\n",
              "    }\n",
              "</style>\n",
              "<table border=\"1\" class=\"dataframe\">\n",
              "  <thead>\n",
              "    <tr style=\"text-align: right;\">\n",
              "      <th></th>\n",
              "      <th>Simple Random Sampling</th>\n",
              "      <th>Systematic Sampling</th>\n",
              "      <th>Stratified Sampling</th>\n",
              "      <th>Cluster Sampling</th>\n",
              "      <th>Bootstrap Sampling</th>\n",
              "    </tr>\n",
              "  </thead>\n",
              "  <tbody>\n",
              "    <tr>\n",
              "      <th>Logistic Regression</th>\n",
              "      <td>0.922078</td>\n",
              "      <td>0.911765</td>\n",
              "      <td>0.944805</td>\n",
              "      <td>0.945652</td>\n",
              "      <td>0.915033</td>\n",
              "    </tr>\n",
              "    <tr>\n",
              "      <th>K-Neighbors Classifier</th>\n",
              "      <td>0.870130</td>\n",
              "      <td>0.872549</td>\n",
              "      <td>0.987013</td>\n",
              "      <td>0.891304</td>\n",
              "      <td>0.947712</td>\n",
              "    </tr>\n",
              "    <tr>\n",
              "      <th>Random Forest Classifier</th>\n",
              "      <td>0.987013</td>\n",
              "      <td>1.000000</td>\n",
              "      <td>1.000000</td>\n",
              "      <td>0.967391</td>\n",
              "      <td>1.000000</td>\n",
              "    </tr>\n",
              "    <tr>\n",
              "      <th>Gradient Boosting Classifier</th>\n",
              "      <td>0.974026</td>\n",
              "      <td>0.990196</td>\n",
              "      <td>0.996753</td>\n",
              "      <td>0.967391</td>\n",
              "      <td>0.986928</td>\n",
              "    </tr>\n",
              "    <tr>\n",
              "      <th>SVC</th>\n",
              "      <td>1.000000</td>\n",
              "      <td>0.960784</td>\n",
              "      <td>0.993506</td>\n",
              "      <td>0.989130</td>\n",
              "      <td>0.950980</td>\n",
              "    </tr>\n",
              "  </tbody>\n",
              "</table>\n",
              "</div>\n",
              "    <div class=\"colab-df-buttons\">\n",
              "\n",
              "  <div class=\"colab-df-container\">\n",
              "    <button class=\"colab-df-convert\" onclick=\"convertToInteractive('df-27ddf887-f56d-4473-b0b5-299ef5ca2dd0')\"\n",
              "            title=\"Convert this dataframe to an interactive table.\"\n",
              "            style=\"display:none;\">\n",
              "\n",
              "  <svg xmlns=\"http://www.w3.org/2000/svg\" height=\"24px\" viewBox=\"0 -960 960 960\">\n",
              "    <path d=\"M120-120v-720h720v720H120Zm60-500h600v-160H180v160Zm220 220h160v-160H400v160Zm0 220h160v-160H400v160ZM180-400h160v-160H180v160Zm440 0h160v-160H620v160ZM180-180h160v-160H180v160Zm440 0h160v-160H620v160Z\"/>\n",
              "  </svg>\n",
              "    </button>\n",
              "\n",
              "  <style>\n",
              "    .colab-df-container {\n",
              "      display:flex;\n",
              "      gap: 12px;\n",
              "    }\n",
              "\n",
              "    .colab-df-convert {\n",
              "      background-color: #E8F0FE;\n",
              "      border: none;\n",
              "      border-radius: 50%;\n",
              "      cursor: pointer;\n",
              "      display: none;\n",
              "      fill: #1967D2;\n",
              "      height: 32px;\n",
              "      padding: 0 0 0 0;\n",
              "      width: 32px;\n",
              "    }\n",
              "\n",
              "    .colab-df-convert:hover {\n",
              "      background-color: #E2EBFA;\n",
              "      box-shadow: 0px 1px 2px rgba(60, 64, 67, 0.3), 0px 1px 3px 1px rgba(60, 64, 67, 0.15);\n",
              "      fill: #174EA6;\n",
              "    }\n",
              "\n",
              "    .colab-df-buttons div {\n",
              "      margin-bottom: 4px;\n",
              "    }\n",
              "\n",
              "    [theme=dark] .colab-df-convert {\n",
              "      background-color: #3B4455;\n",
              "      fill: #D2E3FC;\n",
              "    }\n",
              "\n",
              "    [theme=dark] .colab-df-convert:hover {\n",
              "      background-color: #434B5C;\n",
              "      box-shadow: 0px 1px 3px 1px rgba(0, 0, 0, 0.15);\n",
              "      filter: drop-shadow(0px 1px 2px rgba(0, 0, 0, 0.3));\n",
              "      fill: #FFFFFF;\n",
              "    }\n",
              "  </style>\n",
              "\n",
              "    <script>\n",
              "      const buttonEl =\n",
              "        document.querySelector('#df-27ddf887-f56d-4473-b0b5-299ef5ca2dd0 button.colab-df-convert');\n",
              "      buttonEl.style.display =\n",
              "        google.colab.kernel.accessAllowed ? 'block' : 'none';\n",
              "\n",
              "      async function convertToInteractive(key) {\n",
              "        const element = document.querySelector('#df-27ddf887-f56d-4473-b0b5-299ef5ca2dd0');\n",
              "        const dataTable =\n",
              "          await google.colab.kernel.invokeFunction('convertToInteractive',\n",
              "                                                    [key], {});\n",
              "        if (!dataTable) return;\n",
              "\n",
              "        const docLinkHtml = 'Like what you see? Visit the ' +\n",
              "          '<a target=\"_blank\" href=https://colab.research.google.com/notebooks/data_table.ipynb>data table notebook</a>'\n",
              "          + ' to learn more about interactive tables.';\n",
              "        element.innerHTML = '';\n",
              "        dataTable['output_type'] = 'display_data';\n",
              "        await google.colab.output.renderOutput(dataTable, element);\n",
              "        const docLink = document.createElement('div');\n",
              "        docLink.innerHTML = docLinkHtml;\n",
              "        element.appendChild(docLink);\n",
              "      }\n",
              "    </script>\n",
              "  </div>\n",
              "\n",
              "\n",
              "<div id=\"df-154d4a2a-f9ab-4cdf-803f-ef420c751a22\">\n",
              "  <button class=\"colab-df-quickchart\" onclick=\"quickchart('df-154d4a2a-f9ab-4cdf-803f-ef420c751a22')\"\n",
              "            title=\"Suggest charts\"\n",
              "            style=\"display:none;\">\n",
              "\n",
              "<svg xmlns=\"http://www.w3.org/2000/svg\" height=\"24px\"viewBox=\"0 0 24 24\"\n",
              "     width=\"24px\">\n",
              "    <g>\n",
              "        <path d=\"M19 3H5c-1.1 0-2 .9-2 2v14c0 1.1.9 2 2 2h14c1.1 0 2-.9 2-2V5c0-1.1-.9-2-2-2zM9 17H7v-7h2v7zm4 0h-2V7h2v10zm4 0h-2v-4h2v4z\"/>\n",
              "    </g>\n",
              "</svg>\n",
              "  </button>\n",
              "\n",
              "<style>\n",
              "  .colab-df-quickchart {\n",
              "      --bg-color: #E8F0FE;\n",
              "      --fill-color: #1967D2;\n",
              "      --hover-bg-color: #E2EBFA;\n",
              "      --hover-fill-color: #174EA6;\n",
              "      --disabled-fill-color: #AAA;\n",
              "      --disabled-bg-color: #DDD;\n",
              "  }\n",
              "\n",
              "  [theme=dark] .colab-df-quickchart {\n",
              "      --bg-color: #3B4455;\n",
              "      --fill-color: #D2E3FC;\n",
              "      --hover-bg-color: #434B5C;\n",
              "      --hover-fill-color: #FFFFFF;\n",
              "      --disabled-bg-color: #3B4455;\n",
              "      --disabled-fill-color: #666;\n",
              "  }\n",
              "\n",
              "  .colab-df-quickchart {\n",
              "    background-color: var(--bg-color);\n",
              "    border: none;\n",
              "    border-radius: 50%;\n",
              "    cursor: pointer;\n",
              "    display: none;\n",
              "    fill: var(--fill-color);\n",
              "    height: 32px;\n",
              "    padding: 0;\n",
              "    width: 32px;\n",
              "  }\n",
              "\n",
              "  .colab-df-quickchart:hover {\n",
              "    background-color: var(--hover-bg-color);\n",
              "    box-shadow: 0 1px 2px rgba(60, 64, 67, 0.3), 0 1px 3px 1px rgba(60, 64, 67, 0.15);\n",
              "    fill: var(--button-hover-fill-color);\n",
              "  }\n",
              "\n",
              "  .colab-df-quickchart-complete:disabled,\n",
              "  .colab-df-quickchart-complete:disabled:hover {\n",
              "    background-color: var(--disabled-bg-color);\n",
              "    fill: var(--disabled-fill-color);\n",
              "    box-shadow: none;\n",
              "  }\n",
              "\n",
              "  .colab-df-spinner {\n",
              "    border: 2px solid var(--fill-color);\n",
              "    border-color: transparent;\n",
              "    border-bottom-color: var(--fill-color);\n",
              "    animation:\n",
              "      spin 1s steps(1) infinite;\n",
              "  }\n",
              "\n",
              "  @keyframes spin {\n",
              "    0% {\n",
              "      border-color: transparent;\n",
              "      border-bottom-color: var(--fill-color);\n",
              "      border-left-color: var(--fill-color);\n",
              "    }\n",
              "    20% {\n",
              "      border-color: transparent;\n",
              "      border-left-color: var(--fill-color);\n",
              "      border-top-color: var(--fill-color);\n",
              "    }\n",
              "    30% {\n",
              "      border-color: transparent;\n",
              "      border-left-color: var(--fill-color);\n",
              "      border-top-color: var(--fill-color);\n",
              "      border-right-color: var(--fill-color);\n",
              "    }\n",
              "    40% {\n",
              "      border-color: transparent;\n",
              "      border-right-color: var(--fill-color);\n",
              "      border-top-color: var(--fill-color);\n",
              "    }\n",
              "    60% {\n",
              "      border-color: transparent;\n",
              "      border-right-color: var(--fill-color);\n",
              "    }\n",
              "    80% {\n",
              "      border-color: transparent;\n",
              "      border-right-color: var(--fill-color);\n",
              "      border-bottom-color: var(--fill-color);\n",
              "    }\n",
              "    90% {\n",
              "      border-color: transparent;\n",
              "      border-bottom-color: var(--fill-color);\n",
              "    }\n",
              "  }\n",
              "</style>\n",
              "\n",
              "  <script>\n",
              "    async function quickchart(key) {\n",
              "      const quickchartButtonEl =\n",
              "        document.querySelector('#' + key + ' button');\n",
              "      quickchartButtonEl.disabled = true;  // To prevent multiple clicks.\n",
              "      quickchartButtonEl.classList.add('colab-df-spinner');\n",
              "      try {\n",
              "        const charts = await google.colab.kernel.invokeFunction(\n",
              "            'suggestCharts', [key], {});\n",
              "      } catch (error) {\n",
              "        console.error('Error during call to suggestCharts:', error);\n",
              "      }\n",
              "      quickchartButtonEl.classList.remove('colab-df-spinner');\n",
              "      quickchartButtonEl.classList.add('colab-df-quickchart-complete');\n",
              "    }\n",
              "    (() => {\n",
              "      let quickchartButtonEl =\n",
              "        document.querySelector('#df-154d4a2a-f9ab-4cdf-803f-ef420c751a22 button');\n",
              "      quickchartButtonEl.style.display =\n",
              "        google.colab.kernel.accessAllowed ? 'block' : 'none';\n",
              "    })();\n",
              "  </script>\n",
              "</div>\n",
              "    </div>\n",
              "  </div>\n"
            ]
          },
          "metadata": {},
          "execution_count": 36
        }
      ]
    },
    {
      "cell_type": "markdown",
      "source": [
        "Random Forest Classifier comes out to be the best model, with average acuracy score of 0.990881."
      ],
      "metadata": {
        "id": "eCupokuIjmaX"
      }
    }
  ]
}